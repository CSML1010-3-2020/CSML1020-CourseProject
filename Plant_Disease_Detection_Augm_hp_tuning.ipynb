{
 "cells": [
  {
   "cell_type": "markdown",
   "metadata": {},
   "source": [
    "#### CSML1020 Course Project - New Plant Diseases Dectection\n",
    "#### Authors (Group 3): Paul Doucet, Jerry Khidaroo"
   ]
  },
  {
   "cell_type": "markdown",
   "metadata": {},
   "source": [
    "#### Initilization"
   ]
  },
  {
   "cell_type": "code",
   "execution_count": 1,
   "metadata": {},
   "outputs": [],
   "source": [
    "import numpy as np # linear algebra\n",
    "import pandas as pd # data processing, CSV file I/O (e.g. pd.read_csv)\n",
    "# import seaborn as sns\n",
    "import os"
   ]
  },
  {
   "cell_type": "code",
   "execution_count": 2,
   "metadata": {},
   "outputs": [],
   "source": [
    "import tensorflow as tf\n"
   ]
  },
  {
   "cell_type": "code",
   "execution_count": 3,
   "metadata": {},
   "outputs": [],
   "source": [
    "# Use this to disable GPU\n",
    "tf.config.set_visible_devices([], 'GPU')"
   ]
  },
  {
   "cell_type": "code",
   "execution_count": 4,
   "metadata": {
    "tags": []
   },
   "outputs": [
    {
     "output_type": "stream",
     "name": "stderr",
     "text": "Using TensorFlow backend.\n"
    }
   ],
   "source": [
    "from keras.applications.vgg16 import VGG16\n",
    "import keras\n",
    "from sklearn.model_selection import train_test_split\n",
    "from keras import backend\n",
    "from keras.layers import Dense\n",
    "from keras.layers import Flatten\n",
    "from keras.models import Sequential\n",
    "from keras.layers import Conv2D,MaxPooling2D\n",
    "from keras.optimizers import SGD\n",
    "from keras.models import Model\n",
    "from keras.preprocessing.image import ImageDataGenerator\n",
    "from keras.preprocessing.image import load_img\n",
    "from keras.preprocessing.image import img_to_array\n",
    "from keras.layers import Dropout\n",
    "from keras.layers.normalization import BatchNormalization"
   ]
  },
  {
   "cell_type": "markdown",
   "metadata": {},
   "source": [
    "#### Data Importing"
   ]
  },
  {
   "cell_type": "code",
   "execution_count": 5,
   "metadata": {},
   "outputs": [],
   "source": [
    "# Image Data Folders\n",
    "# dataDirTrain = '../NewPlantDiseasesDatasetSample/train'\n",
    "# dataDirValidate = '../NewPlantDiseasesDatasetSample/valid'\n",
    "# dataDirTest = '../NewPlantDiseasesDatasetSample/test'\n",
    "\n",
    "dataDirTrain = '../NewPlantDiseasesDataset/train'\n",
    "dataDirValidate = '../NewPlantDiseasesDataset/valid'\n",
    "dataDirTest = '../NewPlantDiseasesDataset/test'"
   ]
  },
  {
   "cell_type": "markdown",
   "metadata": {},
   "source": [
    "#### Load Train Image Data with Best Augmentation Filters"
   ]
  },
  {
   "cell_type": "code",
   "execution_count": 6,
   "metadata": {
    "tags": []
   },
   "outputs": [
    {
     "output_type": "stream",
     "name": "stdout",
     "text": "Found 70295 images belonging to 38 classes.\nFound 17572 images belonging to 38 classes.\n"
    }
   ],
   "source": [
    "from keras.preprocessing.image import ImageDataGenerator\n",
    "\n",
    "train_datagen = ImageDataGenerator(rescale=1./255, zoom_range=0.2, fill_mode='nearest')\n",
    "valid_datagen = ImageDataGenerator(rescale=1./255)\n",
    "\n",
    "# batch_size = 128\n",
    "batch_size = 48\n",
    "training_set = train_datagen.flow_from_directory(dataDirTrain, target_size=(224, 224), batch_size=batch_size, class_mode='categorical')\n",
    "valid_set = valid_datagen.flow_from_directory(dataDirValidate, target_size=(224, 224), batch_size=batch_size, class_mode='categorical')\n",
    "\n",
    "train_num = training_set.samples\n",
    "valid_num = valid_set.samples"
   ]
  },
  {
   "cell_type": "markdown",
   "metadata": {},
   "source": [
    "#### Perform Hyper-Parameter Tuning on Selected Model"
   ]
  },
  {
   "cell_type": "code",
   "execution_count": 7,
   "metadata": {},
   "outputs": [],
   "source": [
    "from keras.optimizers import Adam\n",
    "from keras.applications.vgg16 import VGG16\n",
    "import keras\n",
    "\n",
    "def create_model(activation='softmax', learning_rate=0.01):\n",
    "    base_model=VGG16(include_top=False,input_shape=(224,224,3))\n",
    "    # base_model=VGG16(include_top=False,input_shape=(112,112,3))\n",
    "    base_model.trainable=False\n",
    "\n",
    "    classifier=keras.models.Sequential()\n",
    "    classifier.add(base_model)\n",
    "    classifier.add(Flatten())\n",
    "    #classifier.add(Dense(38,activation='softmax'))\n",
    "    classifier.add(Dense(38,activation=activation))\n",
    "\n",
    "    opt = Adam(lr=learning_rate)\n",
    "    \n",
    "    #classifier.compile(optimizer='adam', loss='categorical_crossentropy', metrics=['accuracy'])\n",
    "    classifier.compile(optimizer=opt, loss='categorical_crossentropy', metrics=['accuracy'])\n",
    "\n",
    "    return classifier"
   ]
  },
  {
   "cell_type": "code",
   "execution_count": 9,
   "metadata": {
    "tags": []
   },
   "outputs": [
    {
     "output_type": "stream",
     "name": "stdout",
     "text": "Fitting 3 folds for each of 10 candidates, totalling 30 fits\n[Parallel(n_jobs=1)]: Using backend SequentialBackend with 1 concurrent workers.\n[Parallel(n_jobs=1)]: Done  30 out of  30 | elapsed: 16.0min finished\nBest Score:  -3.91646401087443 and Best Params:  {'learning_rate': 0.0001, 'epochs': 3, 'batch_size': 32, 'activation': 'softmax'}\n"
    }
   ],
   "source": [
    "import keras\n",
    "from keras.wrappers.scikit_learn import KerasRegressor\n",
    "from sklearn.model_selection import RandomizedSearchCV, KFold, cross_val_score\n",
    "from keras import regularizers\n",
    "\n",
    "# Create a KerasClassifier\n",
    "model = KerasRegressor(build_fn = create_model, verbose = 0)\n",
    "\n",
    "# Define the parameters to try out\n",
    "params = {'activation': [\"softmax\"],\n",
    "          'batch_size': [32, 48, 64], \n",
    "          'epochs': [3, 5, 10, 20],\n",
    "          'learning_rate': [0.01, 0.001, 0.0001]}\n",
    "\n",
    "# Create a randomize search cv object passing in the parameters to try\n",
    "random_search = RandomizedSearchCV(model,\n",
    "                                   param_distributions = params, verbose=1,\n",
    "                                   cv = KFold(3))\n",
    "\n",
    "X_train, y_train = next(training_set)\n",
    "\n",
    "random_search_results = random_search.fit(X_train, y_train)\n",
    "\n",
    "# Print best score and parameters\n",
    "print(\"Best Score: \", random_search_results.best_score_, \"and Best Params: \", random_search_results.best_params_)"
   ]
  },
  {
   "cell_type": "code",
   "execution_count": 8,
   "metadata": {
    "tags": []
   },
   "outputs": [
    {
     "output_type": "stream",
     "name": "stdout",
     "text": "Fitting 3 folds for each of 27 candidates, totalling 81 fits\n[CV] activation=softmax, batch_size=32, epochs=3, learning_rate=0.01 .\n[Parallel(n_jobs=1)]: Using backend SequentialBackend with 1 concurrent workers.\n[Parallel(n_jobs=1)]: Done   1 out of   1 | elapsed:   10.4s remaining:    0.0s\n[CV]  activation=softmax, batch_size=32, epochs=3, learning_rate=0.01, total=  10.5s\n[CV] activation=softmax, batch_size=32, epochs=3, learning_rate=0.01 .\n[CV]  activation=softmax, batch_size=32, epochs=3, learning_rate=0.01, total=  10.6s\n[CV] activation=softmax, batch_size=32, epochs=3, learning_rate=0.01 .\n[CV]  activation=softmax, batch_size=32, epochs=3, learning_rate=0.01, total=  10.4s\n[CV] activation=softmax, batch_size=32, epochs=3, learning_rate=0.001 \n[CV]  activation=softmax, batch_size=32, epochs=3, learning_rate=0.001, total=  10.3s\n[CV] activation=softmax, batch_size=32, epochs=3, learning_rate=0.001 \n[CV]  activation=softmax, batch_size=32, epochs=3, learning_rate=0.001, total=  10.6s\n[CV] activation=softmax, batch_size=32, epochs=3, learning_rate=0.001 \n[CV]  activation=softmax, batch_size=32, epochs=3, learning_rate=0.001, total=  10.4s\n[CV] activation=softmax, batch_size=32, epochs=3, learning_rate=0.0001 \n[CV]  activation=softmax, batch_size=32, epochs=3, learning_rate=0.0001, total=  10.3s\n[CV] activation=softmax, batch_size=32, epochs=3, learning_rate=0.0001 \n[CV]  activation=softmax, batch_size=32, epochs=3, learning_rate=0.0001, total=  10.4s\n[CV] activation=softmax, batch_size=32, epochs=3, learning_rate=0.0001 \n[CV]  activation=softmax, batch_size=32, epochs=3, learning_rate=0.0001, total=  10.4s\n[CV] activation=softmax, batch_size=32, epochs=5, learning_rate=0.01 .\n[CV]  activation=softmax, batch_size=32, epochs=5, learning_rate=0.01, total=  15.5s\n[CV] activation=softmax, batch_size=32, epochs=5, learning_rate=0.01 .\n[CV]  activation=softmax, batch_size=32, epochs=5, learning_rate=0.01, total=  15.3s\n[CV] activation=softmax, batch_size=32, epochs=5, learning_rate=0.01 .\n[CV]  activation=softmax, batch_size=32, epochs=5, learning_rate=0.01, total=  15.7s\n[CV] activation=softmax, batch_size=32, epochs=5, learning_rate=0.001 \n[CV]  activation=softmax, batch_size=32, epochs=5, learning_rate=0.001, total=  15.1s\n[CV] activation=softmax, batch_size=32, epochs=5, learning_rate=0.001 \n[CV]  activation=softmax, batch_size=32, epochs=5, learning_rate=0.001, total=  15.8s\n[CV] activation=softmax, batch_size=32, epochs=5, learning_rate=0.001 \n[CV]  activation=softmax, batch_size=32, epochs=5, learning_rate=0.001, total=  15.5s\n[CV] activation=softmax, batch_size=32, epochs=5, learning_rate=0.0001 \n[CV]  activation=softmax, batch_size=32, epochs=5, learning_rate=0.0001, total=  15.4s\n[CV] activation=softmax, batch_size=32, epochs=5, learning_rate=0.0001 \n[CV]  activation=softmax, batch_size=32, epochs=5, learning_rate=0.0001, total=  15.9s\n[CV] activation=softmax, batch_size=32, epochs=5, learning_rate=0.0001 \n[CV]  activation=softmax, batch_size=32, epochs=5, learning_rate=0.0001, total=  15.7s\n[CV] activation=softmax, batch_size=32, epochs=10, learning_rate=0.01 \n[CV]  activation=softmax, batch_size=32, epochs=10, learning_rate=0.01, total=  28.5s\n[CV] activation=softmax, batch_size=32, epochs=10, learning_rate=0.01 \n[CV]  activation=softmax, batch_size=32, epochs=10, learning_rate=0.01, total=  28.0s\n[CV] activation=softmax, batch_size=32, epochs=10, learning_rate=0.01 \n[CV]  activation=softmax, batch_size=32, epochs=10, learning_rate=0.01, total=  28.7s\n[CV] activation=softmax, batch_size=32, epochs=10, learning_rate=0.001 \n[CV]  activation=softmax, batch_size=32, epochs=10, learning_rate=0.001, total=  29.2s\n[CV] activation=softmax, batch_size=32, epochs=10, learning_rate=0.001 \n[CV]  activation=softmax, batch_size=32, epochs=10, learning_rate=0.001, total=  29.5s\n[CV] activation=softmax, batch_size=32, epochs=10, learning_rate=0.001 \n[CV]  activation=softmax, batch_size=32, epochs=10, learning_rate=0.001, total=  28.9s\n[CV] activation=softmax, batch_size=32, epochs=10, learning_rate=0.0001 \n[CV]  activation=softmax, batch_size=32, epochs=10, learning_rate=0.0001, total=  28.9s\n[CV] activation=softmax, batch_size=32, epochs=10, learning_rate=0.0001 \n[CV]  activation=softmax, batch_size=32, epochs=10, learning_rate=0.0001, total=  29.0s\n[CV] activation=softmax, batch_size=32, epochs=10, learning_rate=0.0001 \n[CV]  activation=softmax, batch_size=32, epochs=10, learning_rate=0.0001, total=  28.2s\n[CV] activation=softmax, batch_size=48, epochs=3, learning_rate=0.01 .\n[CV]  activation=softmax, batch_size=48, epochs=3, learning_rate=0.01, total=  10.7s\n[CV] activation=softmax, batch_size=48, epochs=3, learning_rate=0.01 .\n[CV]  activation=softmax, batch_size=48, epochs=3, learning_rate=0.01, total=  10.5s\n[CV] activation=softmax, batch_size=48, epochs=3, learning_rate=0.01 .\n[CV]  activation=softmax, batch_size=48, epochs=3, learning_rate=0.01, total=  10.4s\n[CV] activation=softmax, batch_size=48, epochs=3, learning_rate=0.001 \n[CV]  activation=softmax, batch_size=48, epochs=3, learning_rate=0.001, total=  10.4s\n[CV] activation=softmax, batch_size=48, epochs=3, learning_rate=0.001 \n[CV]  activation=softmax, batch_size=48, epochs=3, learning_rate=0.001, total=  10.4s\n[CV] activation=softmax, batch_size=48, epochs=3, learning_rate=0.001 \n[CV]  activation=softmax, batch_size=48, epochs=3, learning_rate=0.001, total=  10.6s\n[CV] activation=softmax, batch_size=48, epochs=3, learning_rate=0.0001 \n[CV]  activation=softmax, batch_size=48, epochs=3, learning_rate=0.0001, total=  10.3s\n[CV] activation=softmax, batch_size=48, epochs=3, learning_rate=0.0001 \n[CV]  activation=softmax, batch_size=48, epochs=3, learning_rate=0.0001, total=  11.1s\n[CV] activation=softmax, batch_size=48, epochs=3, learning_rate=0.0001 \n[CV]  activation=softmax, batch_size=48, epochs=3, learning_rate=0.0001, total=  10.5s\n[CV] activation=softmax, batch_size=48, epochs=5, learning_rate=0.01 .\n[CV]  activation=softmax, batch_size=48, epochs=5, learning_rate=0.01, total=  15.0s\n[CV] activation=softmax, batch_size=48, epochs=5, learning_rate=0.01 .\n[CV]  activation=softmax, batch_size=48, epochs=5, learning_rate=0.01, total=  15.9s\n[CV] activation=softmax, batch_size=48, epochs=5, learning_rate=0.01 .\n[CV]  activation=softmax, batch_size=48, epochs=5, learning_rate=0.01, total=  15.8s\n[CV] activation=softmax, batch_size=48, epochs=5, learning_rate=0.001 \n[CV]  activation=softmax, batch_size=48, epochs=5, learning_rate=0.001, total=  16.2s\n[CV] activation=softmax, batch_size=48, epochs=5, learning_rate=0.001 \n[CV]  activation=softmax, batch_size=48, epochs=5, learning_rate=0.001, total=  16.2s\n[CV] activation=softmax, batch_size=48, epochs=5, learning_rate=0.001 \n[CV]  activation=softmax, batch_size=48, epochs=5, learning_rate=0.001, total=  16.2s\n[CV] activation=softmax, batch_size=48, epochs=5, learning_rate=0.0001 \n[CV]  activation=softmax, batch_size=48, epochs=5, learning_rate=0.0001, total=  15.8s\n[CV] activation=softmax, batch_size=48, epochs=5, learning_rate=0.0001 \n[CV]  activation=softmax, batch_size=48, epochs=5, learning_rate=0.0001, total=  16.0s\n[CV] activation=softmax, batch_size=48, epochs=5, learning_rate=0.0001 \n[CV]  activation=softmax, batch_size=48, epochs=5, learning_rate=0.0001, total=  15.9s\n[CV] activation=softmax, batch_size=48, epochs=10, learning_rate=0.01 \n[CV]  activation=softmax, batch_size=48, epochs=10, learning_rate=0.01, total=  29.0s\n[CV] activation=softmax, batch_size=48, epochs=10, learning_rate=0.01 \n[CV]  activation=softmax, batch_size=48, epochs=10, learning_rate=0.01, total=  29.7s\n[CV] activation=softmax, batch_size=48, epochs=10, learning_rate=0.01 \n[CV]  activation=softmax, batch_size=48, epochs=10, learning_rate=0.01, total=  29.7s\n[CV] activation=softmax, batch_size=48, epochs=10, learning_rate=0.001 \n[CV]  activation=softmax, batch_size=48, epochs=10, learning_rate=0.001, total=  30.2s\n[CV] activation=softmax, batch_size=48, epochs=10, learning_rate=0.001 \n[CV]  activation=softmax, batch_size=48, epochs=10, learning_rate=0.001, total=  29.5s\n[CV] activation=softmax, batch_size=48, epochs=10, learning_rate=0.001 \n[CV]  activation=softmax, batch_size=48, epochs=10, learning_rate=0.001, total=  30.0s\n[CV] activation=softmax, batch_size=48, epochs=10, learning_rate=0.0001 \n[CV]  activation=softmax, batch_size=48, epochs=10, learning_rate=0.0001, total=  29.9s\n[CV] activation=softmax, batch_size=48, epochs=10, learning_rate=0.0001 \n[CV]  activation=softmax, batch_size=48, epochs=10, learning_rate=0.0001, total=  30.0s\n[CV] activation=softmax, batch_size=48, epochs=10, learning_rate=0.0001 \n[CV]  activation=softmax, batch_size=48, epochs=10, learning_rate=0.0001, total=  29.4s\n[CV] activation=softmax, batch_size=64, epochs=3, learning_rate=0.01 .\n[CV]  activation=softmax, batch_size=64, epochs=3, learning_rate=0.01, total=  10.6s\n[CV] activation=softmax, batch_size=64, epochs=3, learning_rate=0.01 .\n[CV]  activation=softmax, batch_size=64, epochs=3, learning_rate=0.01, total=  10.4s\n[CV] activation=softmax, batch_size=64, epochs=3, learning_rate=0.01 .\n[CV]  activation=softmax, batch_size=64, epochs=3, learning_rate=0.01, total=  10.0s\n[CV] activation=softmax, batch_size=64, epochs=3, learning_rate=0.001 \n[CV]  activation=softmax, batch_size=64, epochs=3, learning_rate=0.001, total=  10.7s\n[CV] activation=softmax, batch_size=64, epochs=3, learning_rate=0.001 \n[CV]  activation=softmax, batch_size=64, epochs=3, learning_rate=0.001, total=  10.5s\n[CV] activation=softmax, batch_size=64, epochs=3, learning_rate=0.001 \n[CV]  activation=softmax, batch_size=64, epochs=3, learning_rate=0.001, total=  10.4s\n[CV] activation=softmax, batch_size=64, epochs=3, learning_rate=0.0001 \n[CV]  activation=softmax, batch_size=64, epochs=3, learning_rate=0.0001, total=  11.1s\n[CV] activation=softmax, batch_size=64, epochs=3, learning_rate=0.0001 \n[CV]  activation=softmax, batch_size=64, epochs=3, learning_rate=0.0001, total=  10.6s\n[CV] activation=softmax, batch_size=64, epochs=3, learning_rate=0.0001 \n[CV]  activation=softmax, batch_size=64, epochs=3, learning_rate=0.0001, total=  10.2s\n[CV] activation=softmax, batch_size=64, epochs=5, learning_rate=0.01 .\n[CV]  activation=softmax, batch_size=64, epochs=5, learning_rate=0.01, total=  15.6s\n[CV] activation=softmax, batch_size=64, epochs=5, learning_rate=0.01 .\n[CV]  activation=softmax, batch_size=64, epochs=5, learning_rate=0.01, total=  15.5s\n[CV] activation=softmax, batch_size=64, epochs=5, learning_rate=0.01 .\n[CV]  activation=softmax, batch_size=64, epochs=5, learning_rate=0.01, total=  16.1s\n[CV] activation=softmax, batch_size=64, epochs=5, learning_rate=0.001 \n[CV]  activation=softmax, batch_size=64, epochs=5, learning_rate=0.001, total=  16.0s\n[CV] activation=softmax, batch_size=64, epochs=5, learning_rate=0.001 \n[CV]  activation=softmax, batch_size=64, epochs=5, learning_rate=0.001, total=  16.3s\n[CV] activation=softmax, batch_size=64, epochs=5, learning_rate=0.001 \n[CV]  activation=softmax, batch_size=64, epochs=5, learning_rate=0.001, total=  15.7s\n[CV] activation=softmax, batch_size=64, epochs=5, learning_rate=0.0001 \n[CV]  activation=softmax, batch_size=64, epochs=5, learning_rate=0.0001, total=  16.0s\n[CV] activation=softmax, batch_size=64, epochs=5, learning_rate=0.0001 \n"
    }
   ],
   "source": [
    "from keras.wrappers.scikit_learn import KerasRegressor\n",
    "from sklearn.model_selection import GridSearchCV, KFold, cross_val_score\n",
    "from keras.optimizers import Adam\n",
    "from keras import regularizers\n",
    "\n",
    "# Create a KerasClassifier\n",
    "model = KerasRegressor(build_fn = create_model, verbose = 0)\n",
    "\n",
    "# Define the parameters to try out\n",
    "params = {'activation': [\"softmax\"],\n",
    "          'batch_size': [32, 48, 64], \n",
    "          'epochs': [3, 5, 10],\n",
    "          'learning_rate': [0.01, 0.001, 0.0001]}\n",
    "\n",
    "# Create a grid search cv object passing in the parameters to try\n",
    "random_search = GridSearchCV(model, params, verbose=2, cv = KFold(3))\n",
    "\n",
    "X_train, y_train = next(training_set)\n",
    "\n",
    "grid_search_results = random_search.fit(X_train, y_train)\n",
    "\n",
    "# Print best score and parameters\n",
    "print(\"Best Score: \", grid_search_results.best_score_, \"and Best Params: \", grid_search_results.best_params_)"
   ]
  },
  {
   "cell_type": "markdown",
   "metadata": {},
   "source": [
    "#### Inference"
   ]
  },
  {
   "cell_type": "code",
   "execution_count": null,
   "metadata": {},
   "outputs": [],
   "source": []
  }
 ],
 "metadata": {
  "language_info": {
   "codemirror_mode": {
    "name": "ipython",
    "version": 3
   },
   "file_extension": ".py",
   "mimetype": "text/x-python",
   "name": "python",
   "nbconvert_exporter": "python",
   "pygments_lexer": "ipython3",
   "version": "3.7.7-final"
  },
  "orig_nbformat": 2,
  "kernelspec": {
   "name": "python3",
   "display_name": "Python 3"
  }
 },
 "nbformat": 4,
 "nbformat_minor": 2
}